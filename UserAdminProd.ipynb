{
 "cells": [
  {
   "cell_type": "code",
   "execution_count": null,
   "metadata": {
    "slideshow": {
     "slide_type": "slide"
    }
   },
   "outputs": [],
   "source": [
    "from arcgis.gis import GIS\n",
    "from datetime import datetime\n",
    "import pandas as pd\n",
    "gis = GIS(\"home\")"
   ]
  },
  {
   "cell_type": "code",
   "execution_count": null,
   "metadata": {
    "slideshow": {
     "slide_type": "slide"
    }
   },
   "outputs": [],
   "source": [
    "currentdatetime = datetime.now()\n",
    "datetemplate = currentdatetime.strftime(\"%Y%m%d\")\n",
    "#This block serves to create a template for how the FME Workbook is named. This will work assuming you are running the script the same day as the FME Server Workflow"
   ]
  },
  {
   "cell_type": "code",
   "execution_count": null,
   "metadata": {
    "scrolled": true
   },
   "outputs": [],
   "source": [
    "df = pd.read_excel('YourPathHere/PortalAGOUsers_{}.xlsx'.format(datetemplate),sheet_name=1)\n",
    "df"
   ]
  },
  {
   "cell_type": "code",
   "execution_count": null,
   "metadata": {},
   "outputs": [],
   "source": [
    "df1 = df.dropna(subset = [\"Termination Date (TAPI)\"])\n",
    "df1"
   ]
  },
  {
   "cell_type": "code",
   "execution_count": null,
   "metadata": {
    "scrolled": false
   },
   "outputs": [],
   "source": [
    "viewers = df1[df1[\"Role\"] == \"Viewer\"]\n",
    "viewers"
   ]
  },
  {
   "cell_type": "code",
   "execution_count": null,
   "metadata": {},
   "outputs": [],
   "source": [
    "usernames = viewers[\"Username (Portal)\"].values.tolist()\n",
    "for user in usernames:\n",
    "    portaluser = gis.users.get(username = user)\n",
    "    print(portaluser)\n",
    "    if portaluser != None:\n",
    "        user_groups = portaluser.groups\n",
    "        for group in user_groups: \n",
    "            targetgroup = gis.groups.get(group.id)\n",
    "            targetgroup.remove_users([user])\n",
    "        portaluser.delete()    \n",
    "    if portaluser == None:\n",
    "        portaluser = gis.users.get(username = user+\"@terracon.com\")\n",
    "        print(portaluser)\n",
    "        try:\n",
    "            user_groups = portaluser.groups\n",
    "            for group in user_groups: \n",
    "                targetgroup = gis.groups.get(group.id)\n",
    "                targetgroup.remove_users([user])\n",
    "            portaluser.delete()\n",
    "        except:\n",
    "            print(\"An error has occured\")"
   ]
  },
  {
   "cell_type": "code",
   "execution_count": null,
   "metadata": {},
   "outputs": [],
   "source": [
    "portaluser = gis.users.get(username = 'username')\n",
    "print(portaluser)\n",
    "if portaluser != None:\n",
    "    user_groups = portaluser.groups\n",
    "    for group in user_groups: \n",
    "        targetgroup = gis.groups.get(group.id)\n",
    "        targetgroup.remove_users([portaluser])\n",
    "    portaluser.delete()    \n",
    "if portaluser == None:\n",
    "    portaluser = gis.users.get(username = user+\"@terracon.com\")\n",
    "    print(portaluser)\n",
    "    try:\n",
    "        user_groups = portaluser.groups\n",
    "        for group in user_groups: \n",
    "            targetgroup = gis.groups.get(group.id)\n",
    "            targetgroup.remove_users([portaluser])\n",
    "        #portaluser.delete()\n",
    "    except:\n",
    "        print(\"An error has occured\")"
   ]
  },
  {
   "cell_type": "code",
   "execution_count": null,
   "metadata": {},
   "outputs": [],
   "source": [
    "for user in usernames:\n",
    "    portaluser = gis.users.get(username = user)\n",
    "    print(portaluser)\n",
    "    if portaluser != None:\n",
    "        user_groups = portaluser.groups\n",
    "        for group in user_groups: \n",
    "            targetgroup = gis.groups.get(group.id)\n",
    "            targetgroup.remove_users([user])\n",
    "        portaluser.delete()    \n",
    "    if portaluser == None:\n",
    "        portaluser = gis.users.get(username = user+\"@terracon.com\")\n",
    "        print(portaluser)\n",
    "        try:\n",
    "            user_groups = portaluser.groups\n",
    "            for group in user_groups: \n",
    "                targetgroup = gis.groups.get(group.id)\n",
    "                targetgroup.remove_users([user])\n",
    "            portaluser.delete()\n",
    "        except:\n",
    "            print(\"An error has occured\")"
   ]
  }
 ],
 "metadata": {
  "celltoolbar": "Slideshow",
  "kernelspec": {
   "display_name": "ArcGISPro",
   "language": "Python",
   "name": "python3"
  },
  "language_info": {
   "file_extension": ".py",
   "name": "python",
   "version": "3"
  }
 },
 "nbformat": 4,
 "nbformat_minor": 2
}
