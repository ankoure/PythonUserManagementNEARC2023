{
 "cells": [
  {
   "cell_type": "code",
   "execution_count": null,
   "metadata": {},
   "outputs": [],
   "source": [
    "from arcgis.gis import GIS\n",
    "gis = GIS(\"home\")"
   ]
  },
  {
   "cell_type": "code",
   "execution_count": null,
   "metadata": {},
   "outputs": [],
   "source": [
    "me = gis.users.me"
   ]
  },
  {
   "cell_type": "code",
   "execution_count": null,
   "metadata": {},
   "outputs": [],
   "source": [
    "grouptofix = gis.groups.get('yourIDHere')"
   ]
  },
  {
   "cell_type": "code",
   "execution_count": null,
   "metadata": {},
   "outputs": [],
   "source": [
    "#Write out group properties to text file\n",
    "group_properties = open(f\"YourPathHere\\\\{grouptofix.id}_properties.txt\", \"a\")\n",
    "group_properties.write(\"title: \"+str(grouptofix.title)+\"\\n\")\n",
    "group_properties.write(\"description: \"+str(grouptofix.description)+\"\\n\")\n",
    "group_properties.write(\"snippet: \"+str(grouptofix.snippet)+\"\\n\")\n",
    "group_properties.write(\"tags: \"+str(grouptofix.tags)+\"\\n\")\n",
    "group_properties.write(\"thumbnail: \"+str(grouptofix.thumbnail)+\"\\n\")\n",
    "group_properties.close()"
   ]
  },
  {
   "cell_type": "code",
   "execution_count": null,
   "metadata": {},
   "outputs": [],
   "source": [
    "#Write out content\n",
    "grouptofix_content = grouptofix.content()\n",
    "f = open(f\"YourPathHere\\\\{grouptofix.id}_content.txt\", \"a\")\n",
    "for c in grouptofix_content:\n",
    "    f.write(str(c.id)+\"\\n\")\n",
    "f.close()"
   ]
  },
  {
   "cell_type": "code",
   "execution_count": null,
   "metadata": {},
   "outputs": [],
   "source": [
    "#Write out members\n",
    "members = grouptofix.get_members()\n",
    "f = open(f\"YourPathHere\\\\{grouptofix.id}_members.txt\", \"a\")\n",
    "f.write(str(members))\n",
    "f.close()"
   ]
  },
  {
   "cell_type": "code",
   "execution_count": null,
   "metadata": {},
   "outputs": [],
   "source": [
    "new_group = gis.groups.create(title=grouptofix.title,\n",
    "                                    tags = grouptofix.tags,\n",
    "                                    description = grouptofix.description,\n",
    "                                    snippet = grouptofix.snippet,\n",
    "                                    access = 'private',\n",
    "                                    is_invitation_only = 'True')"
   ]
  },
  {
   "cell_type": "code",
   "execution_count": null,
   "metadata": {
    "scrolled": true
   },
   "outputs": [],
   "source": [
    "new_group"
   ]
  },
  {
   "cell_type": "code",
   "execution_count": null,
   "metadata": {},
   "outputs": [],
   "source": [
    "for item in grouptofix_content:\n",
    "    try:\n",
    "        itemsharing=item.shared_with\n",
    "        item.unshare(groups=itemsharing['groups'])\n",
    "        item.reassign_to(me.username, target_folder=\"test\")\n",
    "        print(itemsharing['groups'])\n",
    "        item.share(groups=new_group.id)\n",
    "    except Exception as e:\n",
    "        print(e)\n",
    "    "
   ]
  },
  {
   "cell_type": "code",
   "execution_count": null,
   "metadata": {},
   "outputs": [],
   "source": [
    "#Add Members - Users\n",
    "members_of_group = new_group.get_members()\n",
    "owner = members_of_group[\"owner\"]\n",
    "for m in members['users']:\n",
    "    print(m)\n",
    "    if m != owner:\n",
    "        new_group.add_users([m])\n",
    "    \n"
   ]
  },
  {
   "cell_type": "code",
   "execution_count": null,
   "metadata": {},
   "outputs": [],
   "source": [
    "#Add admin member - Optional\n",
    "new_group.add_users(members['owner'])"
   ]
  },
  {
   "cell_type": "code",
   "execution_count": null,
   "metadata": {
    "scrolled": true
   },
   "outputs": [],
   "source": [
    "new_group.content()"
   ]
  },
  {
   "cell_type": "code",
   "execution_count": null,
   "metadata": {},
   "outputs": [],
   "source": []
  }
 ],
 "metadata": {
  "kernelspec": {
   "display_name": "ArcGISPro",
   "language": "Python",
   "name": "python3"
  },
  "language_info": {
   "file_extension": ".py",
   "name": "python",
   "version": "3"
  }
 },
 "nbformat": 4,
 "nbformat_minor": 2
}
